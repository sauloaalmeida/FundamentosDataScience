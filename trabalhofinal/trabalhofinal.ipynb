{
 "cells": [
  {
   "cell_type": "markdown",
   "id": "c4851321",
   "metadata": {},
   "source": [
    "![PPGI_UFRJ](https://github.com/zavaleta/Fundamentos_DS/blob/main/imagens/ppgi-ufrj.png?raw=1)\n",
    "# Fundamentos de Ciência de Dados\n",
    "## 2022 - BL2\n",
    "### **Aluno:** Gilberto Gil, Saulo Andrade Almeida, Valquire\n",
    "\n",
    "# Trabalho Final\n",
    "---"
   ]
  },
  {
   "cell_type": "code",
   "execution_count": 1,
   "id": "421559f7",
   "metadata": {},
   "outputs": [],
   "source": [
    "#Utilizado ambiente python 3.9\n"
   ]
  }
 ],
 "metadata": {
  "kernelspec": {
   "display_name": "Python 3 (ipykernel)",
   "language": "python",
   "name": "python3"
  },
  "language_info": {
   "codemirror_mode": {
    "name": "ipython",
    "version": 3
   },
   "file_extension": ".py",
   "mimetype": "text/x-python",
   "name": "python",
   "nbconvert_exporter": "python",
   "pygments_lexer": "ipython3",
   "version": "3.9.12"
  }
 },
 "nbformat": 4,
 "nbformat_minor": 5
}

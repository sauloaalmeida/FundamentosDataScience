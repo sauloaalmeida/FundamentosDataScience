{
  "cells": [
    {
      "cell_type": "markdown",
      "id": "c4851321",
      "metadata": {
        "id": "c4851321"
      },
      "source": [
        "![PPGI_UFRJ](https://github.com/zavaleta/Fundamentos_DS/blob/main/imagens/ppgi-ufrj.png?raw=1)\n",
        "# Fundamentos de Ciência de Dados\n",
        "## 2022 - BL2\n",
        "### **Aluno:** Gilberto Gil, Saulo Andrade Almeida, Valquire\n",
        "\n",
        "# Trabalho Final\n",
        "---"
      ]
    },
    {
      "cell_type": "code",
      "execution_count": 46,
      "id": "421559f7",
      "metadata": {
        "id": "421559f7"
      },
      "outputs": [],
      "source": [
        "#Utilizado ambiente python 3.9\n",
        "import pandas as pd\n",
        "import numpy as np\n",
        "\n",
        "from datetime import datetime\n",
        "dateparse = lambda x: datetime.strptime(x, '%Y-%m-%d')\n",
        "\n",
        "dataPath=\"https://raw.githubusercontent.com/sauloaalmeida/FundamentosDataScience/main/trabalhofinal/data/\"\n",
        "fileCiaAberta2011=\"itr_cia_aberta_2011.csv\"\n",
        "fileCiaAbertaDRE2011=\"itr_cia_aberta_DRE_con_2011.csv\"\n",
        "ciaAberta2011 = pd.read_csv(dataPath+fileCiaAberta2011, sep=';', header=0, encoding=\"ISO-8859-1\", date_parser=dateparse) #dataset uploaded para repositorio git publico\n",
        "ciaAbertaDRECon2011 = pd.read_csv(dataPath+fileCiaAbertaDRE2011, sep=';', header=0, encoding=\"ISO-8859-1\", date_parser=dateparse) #dataset uploaded para repositorio git publico"
      ]
    },
    {
      "cell_type": "markdown",
      "source": [
        "Verifica o tamanho do dataframe apos ser carregado"
      ],
      "metadata": {
        "id": "PfEF2GwY_k5-"
      },
      "id": "PfEF2GwY_k5-"
    },
    {
      "cell_type": "code",
      "source": [
        "ciaAberta2011.shape"
      ],
      "metadata": {
        "colab": {
          "base_uri": "https://localhost:8080/"
        },
        "id": "WY0JYmE-_sIy",
        "outputId": "9db6ddd7-ac0a-4803-9b12-16ddee976286"
      },
      "id": "WY0JYmE-_sIy",
      "execution_count": 47,
      "outputs": [
        {
          "output_type": "execute_result",
          "data": {
            "text/plain": [
              "(2510, 9)"
            ]
          },
          "metadata": {},
          "execution_count": 47
        }
      ]
    },
    {
      "cell_type": "code",
      "source": [
        "ciaAbertaDRECon2011.shape"
      ],
      "metadata": {
        "id": "un5mf2iKFF-T",
        "outputId": "44e17625-d335-4ae0-a8f2-7bed62167ccd",
        "colab": {
          "base_uri": "https://localhost:8080/"
        }
      },
      "id": "un5mf2iKFF-T",
      "execution_count": 48,
      "outputs": [
        {
          "output_type": "execute_result",
          "data": {
            "text/plain": [
              "(123576, 15)"
            ]
          },
          "metadata": {},
          "execution_count": 48
        }
      ]
    },
    {
      "cell_type": "markdown",
      "source": [
        "Lista as colunas verificadas"
      ],
      "metadata": {
        "id": "yMFaa4XK_uXc"
      },
      "id": "yMFaa4XK_uXc"
    },
    {
      "cell_type": "code",
      "source": [
        "ciaAberta2011.columns"
      ],
      "metadata": {
        "colab": {
          "base_uri": "https://localhost:8080/"
        },
        "id": "ApOgocJL_wu4",
        "outputId": "d390eea4-0843-4881-baf7-0f3144ac958d"
      },
      "id": "ApOgocJL_wu4",
      "execution_count": 49,
      "outputs": [
        {
          "output_type": "execute_result",
          "data": {
            "text/plain": [
              "Index(['CNPJ_CIA', 'DT_REFER', 'VERSAO', 'DENOM_CIA', 'CD_CVM', 'CATEG_DOC',\n",
              "       'ID_DOC', 'DT_RECEB', 'LINK_DOC'],\n",
              "      dtype='object')"
            ]
          },
          "metadata": {},
          "execution_count": 49
        }
      ]
    },
    {
      "cell_type": "code",
      "source": [
        "ciaAbertaDRECon2011.columns"
      ],
      "metadata": {
        "id": "Oz8XcbwTFKDH",
        "outputId": "c9fd9ac9-68d3-4d7d-8c25-bcb7a93989c3",
        "colab": {
          "base_uri": "https://localhost:8080/"
        }
      },
      "id": "Oz8XcbwTFKDH",
      "execution_count": 50,
      "outputs": [
        {
          "output_type": "execute_result",
          "data": {
            "text/plain": [
              "Index(['CNPJ_CIA', 'DT_REFER', 'VERSAO', 'DENOM_CIA', 'CD_CVM', 'GRUPO_DFP',\n",
              "       'MOEDA', 'ESCALA_MOEDA', 'ORDEM_EXERC', 'DT_INI_EXERC', 'DT_FIM_EXERC',\n",
              "       'CD_CONTA', 'DS_CONTA', 'VL_CONTA', 'ST_CONTA_FIXA'],\n",
              "      dtype='object')"
            ]
          },
          "metadata": {},
          "execution_count": 50
        }
      ]
    },
    {
      "cell_type": "markdown",
      "source": [
        "Verifica os tipos identificados"
      ],
      "metadata": {
        "id": "M0uf4r3O_zIG"
      },
      "id": "M0uf4r3O_zIG"
    },
    {
      "cell_type": "code",
      "source": [
        "ciaAberta2011.dtypes"
      ],
      "metadata": {
        "colab": {
          "base_uri": "https://localhost:8080/"
        },
        "id": "DzCimvov_24I",
        "outputId": "c223d7fd-157a-48ca-b999-a6987f92eb03"
      },
      "id": "DzCimvov_24I",
      "execution_count": 51,
      "outputs": [
        {
          "output_type": "execute_result",
          "data": {
            "text/plain": [
              "CNPJ_CIA     object\n",
              "DT_REFER     object\n",
              "VERSAO        int64\n",
              "DENOM_CIA    object\n",
              "CD_CVM        int64\n",
              "CATEG_DOC    object\n",
              "ID_DOC        int64\n",
              "DT_RECEB     object\n",
              "LINK_DOC     object\n",
              "dtype: object"
            ]
          },
          "metadata": {},
          "execution_count": 51
        }
      ]
    },
    {
      "cell_type": "code",
      "source": [
        "ciaAbertaDRECon2011.dtypes"
      ],
      "metadata": {
        "id": "q3_CEay_FOFk",
        "outputId": "be8f8f72-4cdc-4768-ac9b-7215a0a24357",
        "colab": {
          "base_uri": "https://localhost:8080/"
        }
      },
      "id": "q3_CEay_FOFk",
      "execution_count": 52,
      "outputs": [
        {
          "output_type": "execute_result",
          "data": {
            "text/plain": [
              "CNPJ_CIA          object\n",
              "DT_REFER          object\n",
              "VERSAO             int64\n",
              "DENOM_CIA         object\n",
              "CD_CVM             int64\n",
              "GRUPO_DFP         object\n",
              "MOEDA             object\n",
              "ESCALA_MOEDA      object\n",
              "ORDEM_EXERC       object\n",
              "DT_INI_EXERC      object\n",
              "DT_FIM_EXERC      object\n",
              "CD_CONTA          object\n",
              "DS_CONTA          object\n",
              "VL_CONTA         float64\n",
              "ST_CONTA_FIXA     object\n",
              "dtype: object"
            ]
          },
          "metadata": {},
          "execution_count": 52
        }
      ]
    },
    {
      "cell_type": "markdown",
      "source": [
        "Imprime o inicio do dataset"
      ],
      "metadata": {
        "id": "67ZlzS6n_41c"
      },
      "id": "67ZlzS6n_41c"
    },
    {
      "cell_type": "code",
      "source": [
        "ciaAberta2011.head"
      ],
      "metadata": {
        "colab": {
          "base_uri": "https://localhost:8080/"
        },
        "id": "asHUOBkh_8i2",
        "outputId": "235ab814-a9d8-488d-b809-6c791908a608"
      },
      "id": "asHUOBkh_8i2",
      "execution_count": 53,
      "outputs": [
        {
          "output_type": "execute_result",
          "data": {
            "text/plain": [
              "<bound method NDFrame.head of                 CNPJ_CIA    DT_REFER  VERSAO                 DENOM_CIA  \\\n",
              "0     00.000.000/0001-91  2011-03-31       1           BCO BRASIL S.A.   \n",
              "1     00.000.000/0001-91  2011-06-30       1           BCO BRASIL S.A.   \n",
              "2     00.000.000/0001-91  2011-09-30       1           BCO BRASIL S.A.   \n",
              "3     00.000.208/0001-00  2011-03-31       1  BRB BCO DE BRASILIA S.A.   \n",
              "4     00.000.208/0001-00  2011-06-30       1  BRB BCO DE BRASILIA S.A.   \n",
              "...                  ...         ...     ...                       ...   \n",
              "2505  97.191.902/0001-94  2011-06-30       1    CONSERVAS ODERICH S.A.   \n",
              "2506  97.191.902/0001-94  2011-09-30       1    CONSERVAS ODERICH S.A.   \n",
              "2507  97.837.181/0001-47  2011-03-31       1              DURATEX S.A.   \n",
              "2508  97.837.181/0001-47  2011-06-30       1              DURATEX S.A.   \n",
              "2509  97.837.181/0001-47  2011-09-30       1              DURATEX S.A.   \n",
              "\n",
              "      CD_CVM CATEG_DOC  ID_DOC    DT_RECEB  \\\n",
              "0       1023       ITR    7439  2011-05-10   \n",
              "1       1023       ITR   10616  2011-08-09   \n",
              "2       1023       ITR   12306  2011-11-03   \n",
              "3      14206       ITR    8351  2011-05-19   \n",
              "4      14206       ITR   11290  2011-08-18   \n",
              "...      ...       ...     ...         ...   \n",
              "2505    4693       ITR   10868  2011-08-12   \n",
              "2506    4693       ITR   12909  2011-11-14   \n",
              "2507   21091       ITR    7240  2011-05-06   \n",
              "2508   21091       ITR   10422  2011-08-01   \n",
              "2509   21091       ITR   12305  2011-11-03   \n",
              "\n",
              "                                               LINK_DOC  \n",
              "0     http://www.rad.cvm.gov.br/ENETCONSULTA/frmDown...  \n",
              "1     http://www.rad.cvm.gov.br/ENETCONSULTA/frmDown...  \n",
              "2     http://www.rad.cvm.gov.br/ENETCONSULTA/frmDown...  \n",
              "3     http://www.rad.cvm.gov.br/ENETCONSULTA/frmDown...  \n",
              "4     http://www.rad.cvm.gov.br/ENETCONSULTA/frmDown...  \n",
              "...                                                 ...  \n",
              "2505  http://www.rad.cvm.gov.br/ENETCONSULTA/frmDown...  \n",
              "2506  http://www.rad.cvm.gov.br/ENETCONSULTA/frmDown...  \n",
              "2507  http://www.rad.cvm.gov.br/ENETCONSULTA/frmDown...  \n",
              "2508  http://www.rad.cvm.gov.br/ENETCONSULTA/frmDown...  \n",
              "2509  http://www.rad.cvm.gov.br/ENETCONSULTA/frmDown...  \n",
              "\n",
              "[2510 rows x 9 columns]>"
            ]
          },
          "metadata": {},
          "execution_count": 53
        }
      ]
    },
    {
      "cell_type": "code",
      "source": [
        "ciaAbertaDRECon2011.head"
      ],
      "metadata": {
        "id": "QHY59ABVFRsq",
        "outputId": "fd3aab1a-4710-44f9-8c14-a9442f8d37bb",
        "colab": {
          "base_uri": "https://localhost:8080/"
        }
      },
      "id": "QHY59ABVFRsq",
      "execution_count": 54,
      "outputs": [
        {
          "output_type": "execute_result",
          "data": {
            "text/plain": [
              "<bound method NDFrame.head of                   CNPJ_CIA    DT_REFER  VERSAO  \\\n",
              "0       00.001.180/0001-26  2011-03-31       1   \n",
              "1       00.001.180/0001-26  2011-03-31       1   \n",
              "2       00.001.180/0001-26  2011-03-31       1   \n",
              "3       00.001.180/0001-26  2011-03-31       1   \n",
              "4       00.001.180/0001-26  2011-03-31       1   \n",
              "...                    ...         ...     ...   \n",
              "123571  97.837.181/0001-47  2011-09-30       1   \n",
              "123572  97.837.181/0001-47  2011-09-30       1   \n",
              "123573  97.837.181/0001-47  2011-09-30       1   \n",
              "123574  97.837.181/0001-47  2011-09-30       1   \n",
              "123575  97.837.181/0001-47  2011-09-30       1   \n",
              "\n",
              "                                   DENOM_CIA  CD_CVM  \\\n",
              "0       CENTRAIS ELET BRAS S.A. - ELETROBRAS    2437   \n",
              "1       CENTRAIS ELET BRAS S.A. - ELETROBRAS    2437   \n",
              "2       CENTRAIS ELET BRAS S.A. - ELETROBRAS    2437   \n",
              "3       CENTRAIS ELET BRAS S.A. - ELETROBRAS    2437   \n",
              "4       CENTRAIS ELET BRAS S.A. - ELETROBRAS    2437   \n",
              "...                                      ...     ...   \n",
              "123571                          DURATEX S.A.   21091   \n",
              "123572                          DURATEX S.A.   21091   \n",
              "123573                          DURATEX S.A.   21091   \n",
              "123574                          DURATEX S.A.   21091   \n",
              "123575                          DURATEX S.A.   21091   \n",
              "\n",
              "                                         GRUPO_DFP MOEDA ESCALA_MOEDA  \\\n",
              "0       DF Consolidado - Demonstração do Resultado  REAL          MIL   \n",
              "1       DF Consolidado - Demonstração do Resultado  REAL          MIL   \n",
              "2       DF Consolidado - Demonstração do Resultado  REAL          MIL   \n",
              "3       DF Consolidado - Demonstração do Resultado  REAL          MIL   \n",
              "4       DF Consolidado - Demonstração do Resultado  REAL          MIL   \n",
              "...                                            ...   ...          ...   \n",
              "123571  DF Consolidado - Demonstração do Resultado  REAL          MIL   \n",
              "123572  DF Consolidado - Demonstração do Resultado  REAL          MIL   \n",
              "123573  DF Consolidado - Demonstração do Resultado  REAL          MIL   \n",
              "123574  DF Consolidado - Demonstração do Resultado  REAL          MIL   \n",
              "123575  DF Consolidado - Demonstração do Resultado  REAL          MIL   \n",
              "\n",
              "       ORDEM_EXERC DT_INI_EXERC DT_FIM_EXERC    CD_CONTA  \\\n",
              "0        PENÚLTIMO   2010-01-01   2010-03-31        3.01   \n",
              "1           ÚLTIMO   2011-01-01   2011-03-31        3.01   \n",
              "2        PENÚLTIMO   2010-01-01   2010-03-31        3.02   \n",
              "3           ÚLTIMO   2011-01-01   2011-03-31        3.02   \n",
              "4        PENÚLTIMO   2010-01-01   2010-03-31     3.02.01   \n",
              "...            ...          ...          ...         ...   \n",
              "123571      ÚLTIMO   2011-07-01   2011-09-30     3.99.02   \n",
              "123572   PENÚLTIMO   2010-01-01   2010-09-30  3.99.02.01   \n",
              "123573   PENÚLTIMO   2010-07-01   2010-09-30  3.99.02.01   \n",
              "123574      ÚLTIMO   2011-01-01   2011-09-30  3.99.02.01   \n",
              "123575      ÚLTIMO   2011-07-01   2011-09-30  3.99.02.01   \n",
              "\n",
              "                                      DS_CONTA      VL_CONTA ST_CONTA_FIXA  \n",
              "0       Receita de Venda de Bens e/ou Serviços  6.159172e+06             S  \n",
              "1       Receita de Venda de Bens e/ou Serviços  8.551982e+06             S  \n",
              "2        Custo dos Bens e/ou Serviços Vendidos -9.600600e+05             S  \n",
              "3        Custo dos Bens e/ou Serviços Vendidos -1.127021e+06             S  \n",
              "4                           Encargos Setoriais -3.406600e+05             N  \n",
              "...                                        ...           ...           ...  \n",
              "123571                  Lucro Diluído por Ação  0.000000e+00             N  \n",
              "123572                                      ON  6.943000e-01             N  \n",
              "123573                                      ON  3.263000e-01             N  \n",
              "123574                                      ON  5.288000e-01             N  \n",
              "123575                                      ON  2.115000e-01             N  \n",
              "\n",
              "[123576 rows x 15 columns]>"
            ]
          },
          "metadata": {},
          "execution_count": 54
        }
      ]
    }
  ],
  "metadata": {
    "kernelspec": {
      "display_name": "Python 3 (ipykernel)",
      "language": "python",
      "name": "python3"
    },
    "language_info": {
      "codemirror_mode": {
        "name": "ipython",
        "version": 3
      },
      "file_extension": ".py",
      "mimetype": "text/x-python",
      "name": "python",
      "nbconvert_exporter": "python",
      "pygments_lexer": "ipython3",
      "version": "3.9.12"
    },
    "colab": {
      "name": "trabalhofinal.ipynb",
      "provenance": []
    }
  },
  "nbformat": 4,
  "nbformat_minor": 5
}
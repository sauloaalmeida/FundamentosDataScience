{
  "cells": [
    {
      "cell_type": "markdown",
      "id": "c4851321",
      "metadata": {
        "id": "c4851321"
      },
      "source": [
        "![PPGI_UFRJ](https://github.com/zavaleta/Fundamentos_DS/blob/main/imagens/ppgi-ufrj.png?raw=1)\n",
        "# Fundamentos de Ciência de Dados\n",
        "## 2022 - BL2\n",
        "### **Aluno:** Gilberto Gil, Saulo Andrade Almeida, Valquire\n",
        "\n",
        "# Trabalho Final\n",
        "---"
      ]
    },
    {
      "cell_type": "code",
      "execution_count": 28,
      "id": "421559f7",
      "metadata": {
        "id": "421559f7"
      },
      "outputs": [],
      "source": [
        "#Utilizado ambiente python 3.9\n",
        "import pandas as pd\n",
        "import numpy as np\n",
        "\n",
        "from datetime import datetime\n",
        "dateparse = lambda x: datetime.strptime(x, '%Y-%m-%d')\n",
        "\n",
        "dataPath=\"https://raw.githubusercontent.com/sauloaalmeida/FundamentosDataScience/main/trabalhofinal/data/\"\n",
        "fileCiaAberta2011=\"itr_cia_aberta_2011.csv\"\n",
        "ciaAberta2011 = pd.read_csv(dataPath+fileCiaAberta2011, sep=';', header=0, encoding=\"ISO-8859-1\", date_parser=dateparse) #dataset uploaded para repositorio git publico"
      ]
    },
    {
      "cell_type": "markdown",
      "source": [
        "Verifica o tamanho do dataframe apos ser carregado"
      ],
      "metadata": {
        "id": "PfEF2GwY_k5-"
      },
      "id": "PfEF2GwY_k5-"
    },
    {
      "cell_type": "code",
      "source": [
        "ciaAberta2011.shape"
      ],
      "metadata": {
        "id": "WY0JYmE-_sIy",
        "outputId": "d00e26a0-211a-4450-c2e8-3ed0cd69fe6a",
        "colab": {
          "base_uri": "https://localhost:8080/"
        }
      },
      "id": "WY0JYmE-_sIy",
      "execution_count": 29,
      "outputs": [
        {
          "output_type": "execute_result",
          "data": {
            "text/plain": [
              "(2510, 9)"
            ]
          },
          "metadata": {},
          "execution_count": 29
        }
      ]
    },
    {
      "cell_type": "markdown",
      "source": [
        "Lista as colunas verificadas"
      ],
      "metadata": {
        "id": "yMFaa4XK_uXc"
      },
      "id": "yMFaa4XK_uXc"
    },
    {
      "cell_type": "code",
      "source": [
        "ciaAberta2011.columns"
      ],
      "metadata": {
        "id": "ApOgocJL_wu4",
        "outputId": "972f3619-f567-47ad-a59d-1702b8c985a2",
        "colab": {
          "base_uri": "https://localhost:8080/"
        }
      },
      "id": "ApOgocJL_wu4",
      "execution_count": 30,
      "outputs": [
        {
          "output_type": "execute_result",
          "data": {
            "text/plain": [
              "Index(['CNPJ_CIA', 'DT_REFER', 'VERSAO', 'DENOM_CIA', 'CD_CVM', 'CATEG_DOC',\n",
              "       'ID_DOC', 'DT_RECEB', 'LINK_DOC'],\n",
              "      dtype='object')"
            ]
          },
          "metadata": {},
          "execution_count": 30
        }
      ]
    },
    {
      "cell_type": "markdown",
      "source": [
        "Verifica os tipos identificados"
      ],
      "metadata": {
        "id": "M0uf4r3O_zIG"
      },
      "id": "M0uf4r3O_zIG"
    },
    {
      "cell_type": "code",
      "source": [
        "ciaAberta2011.dtypes"
      ],
      "metadata": {
        "id": "DzCimvov_24I",
        "outputId": "7135a007-833f-49a1-9d5a-aeb2080f6b5a",
        "colab": {
          "base_uri": "https://localhost:8080/"
        }
      },
      "id": "DzCimvov_24I",
      "execution_count": 31,
      "outputs": [
        {
          "output_type": "execute_result",
          "data": {
            "text/plain": [
              "CNPJ_CIA     object\n",
              "DT_REFER     object\n",
              "VERSAO        int64\n",
              "DENOM_CIA    object\n",
              "CD_CVM        int64\n",
              "CATEG_DOC    object\n",
              "ID_DOC        int64\n",
              "DT_RECEB     object\n",
              "LINK_DOC     object\n",
              "dtype: object"
            ]
          },
          "metadata": {},
          "execution_count": 31
        }
      ]
    },
    {
      "cell_type": "markdown",
      "source": [
        "Imprime o inicio do dataset"
      ],
      "metadata": {
        "id": "67ZlzS6n_41c"
      },
      "id": "67ZlzS6n_41c"
    },
    {
      "cell_type": "code",
      "source": [
        "ciaAberta2011.head"
      ],
      "metadata": {
        "id": "asHUOBkh_8i2",
        "outputId": "5ba6131a-228c-44af-f7aa-1dcbb5833241",
        "colab": {
          "base_uri": "https://localhost:8080/"
        }
      },
      "id": "asHUOBkh_8i2",
      "execution_count": 32,
      "outputs": [
        {
          "output_type": "execute_result",
          "data": {
            "text/plain": [
              "<bound method NDFrame.head of                 CNPJ_CIA    DT_REFER  VERSAO                 DENOM_CIA  \\\n",
              "0     00.000.000/0001-91  2011-03-31       1           BCO BRASIL S.A.   \n",
              "1     00.000.000/0001-91  2011-06-30       1           BCO BRASIL S.A.   \n",
              "2     00.000.000/0001-91  2011-09-30       1           BCO BRASIL S.A.   \n",
              "3     00.000.208/0001-00  2011-03-31       1  BRB BCO DE BRASILIA S.A.   \n",
              "4     00.000.208/0001-00  2011-06-30       1  BRB BCO DE BRASILIA S.A.   \n",
              "...                  ...         ...     ...                       ...   \n",
              "2505  97.191.902/0001-94  2011-06-30       1    CONSERVAS ODERICH S.A.   \n",
              "2506  97.191.902/0001-94  2011-09-30       1    CONSERVAS ODERICH S.A.   \n",
              "2507  97.837.181/0001-47  2011-03-31       1              DURATEX S.A.   \n",
              "2508  97.837.181/0001-47  2011-06-30       1              DURATEX S.A.   \n",
              "2509  97.837.181/0001-47  2011-09-30       1              DURATEX S.A.   \n",
              "\n",
              "      CD_CVM CATEG_DOC  ID_DOC    DT_RECEB  \\\n",
              "0       1023       ITR    7439  2011-05-10   \n",
              "1       1023       ITR   10616  2011-08-09   \n",
              "2       1023       ITR   12306  2011-11-03   \n",
              "3      14206       ITR    8351  2011-05-19   \n",
              "4      14206       ITR   11290  2011-08-18   \n",
              "...      ...       ...     ...         ...   \n",
              "2505    4693       ITR   10868  2011-08-12   \n",
              "2506    4693       ITR   12909  2011-11-14   \n",
              "2507   21091       ITR    7240  2011-05-06   \n",
              "2508   21091       ITR   10422  2011-08-01   \n",
              "2509   21091       ITR   12305  2011-11-03   \n",
              "\n",
              "                                               LINK_DOC  \n",
              "0     http://www.rad.cvm.gov.br/ENETCONSULTA/frmDown...  \n",
              "1     http://www.rad.cvm.gov.br/ENETCONSULTA/frmDown...  \n",
              "2     http://www.rad.cvm.gov.br/ENETCONSULTA/frmDown...  \n",
              "3     http://www.rad.cvm.gov.br/ENETCONSULTA/frmDown...  \n",
              "4     http://www.rad.cvm.gov.br/ENETCONSULTA/frmDown...  \n",
              "...                                                 ...  \n",
              "2505  http://www.rad.cvm.gov.br/ENETCONSULTA/frmDown...  \n",
              "2506  http://www.rad.cvm.gov.br/ENETCONSULTA/frmDown...  \n",
              "2507  http://www.rad.cvm.gov.br/ENETCONSULTA/frmDown...  \n",
              "2508  http://www.rad.cvm.gov.br/ENETCONSULTA/frmDown...  \n",
              "2509  http://www.rad.cvm.gov.br/ENETCONSULTA/frmDown...  \n",
              "\n",
              "[2510 rows x 9 columns]>"
            ]
          },
          "metadata": {},
          "execution_count": 32
        }
      ]
    }
  ],
  "metadata": {
    "kernelspec": {
      "display_name": "Python 3 (ipykernel)",
      "language": "python",
      "name": "python3"
    },
    "language_info": {
      "codemirror_mode": {
        "name": "ipython",
        "version": 3
      },
      "file_extension": ".py",
      "mimetype": "text/x-python",
      "name": "python",
      "nbconvert_exporter": "python",
      "pygments_lexer": "ipython3",
      "version": "3.9.12"
    },
    "colab": {
      "name": "trabalhofinal.ipynb",
      "provenance": []
    }
  },
  "nbformat": 4,
  "nbformat_minor": 5
}
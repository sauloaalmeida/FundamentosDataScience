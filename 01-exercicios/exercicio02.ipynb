{
  "cells": [
    {
      "cell_type": "markdown",
      "metadata": {
        "id": "WJEBJ372kJml"
      },
      "source": [
        "![PPGI_UFRJ](https://github.com/zavaleta/Fundamentos_DS/blob/main/imagens/ppgi-ufrj.png?raw=1)\n",
        "# Fundamentos de Ciência de Dados\n",
        "## 2022 - BL2\n",
        "## **Aluno:** Saulo Andrade Almeida"
      ],
      "id": "WJEBJ372kJml"
    },
    {
      "cell_type": "markdown",
      "source": [
        "## Exercício 02\n",
        "\n",
        "Prática dos conteúdos estudados: Estruturas de Controle\n",
        "\n",
        "---\n",
        "\n"
      ],
      "metadata": {
        "id": "TJ3c3UalnrlT"
      },
      "id": "TJ3c3UalnrlT"
    },
    {
      "cell_type": "markdown",
      "metadata": {
        "id": "MQMtG4ZyoL2o"
      },
      "source": [
        "Definicao das listas que serão utilizadas no exercício:"
      ],
      "id": "MQMtG4ZyoL2o"
    },
    {
      "cell_type": "code",
      "execution_count": 1,
      "id": "86ce8298",
      "metadata": {
        "id": "86ce8298"
      },
      "outputs": [],
      "source": [
        "lista = [-3, -2, -2, 0, 1,2,3,4,5,6,7,8,9,10,11,12,13,14,15,16,17,18,19,20]\n",
        "palavras =['roma','Roma','Rio','Niterói','Araruama','Cabo Frio','Rezende','Volta Redonda']"
      ]
    },
    {
      "cell_type": "markdown",
      "source": [
        "1. Escreva seus dados numa mascara e apresente eles."
      ],
      "metadata": {
        "id": "TBbfQdYBpp-G"
      },
      "id": "TBbfQdYBpp-G"
    },
    {
      "cell_type": "code",
      "execution_count": 2,
      "id": "ffbba5cb",
      "metadata": {
        "colab": {
          "base_uri": "https://localhost:8080/"
        },
        "id": "ffbba5cb",
        "outputId": "282b5c2a-f2d9-4534-9aab-7e3f6382a318"
      },
      "outputs": [
        {
          "output_type": "stream",
          "name": "stdout",
          "text": [
            "Valor int:-3 \n",
            "Valor int:-2 \n",
            "Valor int:-2 \n",
            "Valor int:0 \n",
            "Valor int:1 \n",
            "Valor int:2 \n",
            "Valor int:3 \n",
            "Valor int:4 \n",
            "Valor int:5 \n",
            "Valor int:6 \n",
            "Valor int:7 \n",
            "Valor int:8 \n",
            "Valor int:9 \n",
            "Valor int:10 \n",
            "Valor int:11 \n",
            "Valor int:12 \n",
            "Valor int:13 \n",
            "Valor int:14 \n",
            "Valor int:15 \n",
            "Valor int:16 \n",
            "Valor int:17 \n",
            "Valor int:18 \n",
            "Valor int:19 \n",
            "Valor int:20 \n",
            "Palavra:roma \n",
            "Palavra:Roma \n",
            "Palavra:Rio \n",
            "Palavra:Niterói \n",
            "Palavra:Araruama \n",
            "Palavra:Cabo Frio \n",
            "Palavra:Rezende \n",
            "Palavra:Volta Redonda \n"
          ]
        }
      ],
      "source": [
        "for num in lista:\n",
        "    print('Valor int:%d ' % num)\n",
        "\n",
        "for palavra in palavras:\n",
        "    print('Palavra:%s ' % palavra)    "
      ]
    },
    {
      "cell_type": "markdown",
      "source": [
        "2. Escreva uma função para contar quantos números ímpares têm a lista"
      ],
      "metadata": {
        "id": "rNbovp3Jq-PG"
      },
      "id": "rNbovp3Jq-PG"
    },
    {
      "cell_type": "code",
      "source": [
        "contadorImpares = 0\n",
        "\n",
        "for num in lista:\n",
        "    if num % 2 == 1: \n",
        "        contadorImpares = contadorImpares + 1\n",
        "\n",
        "print(f'A quantidade de números ímpares na lista é: {contadorImpares}')"
      ],
      "metadata": {
        "id": "AwMTmn39mDGD",
        "colab": {
          "base_uri": "https://localhost:8080/"
        },
        "outputId": "34051acb-0151-4f41-b3ac-7c281660c09a"
      },
      "id": "AwMTmn39mDGD",
      "execution_count": 3,
      "outputs": [
        {
          "output_type": "stream",
          "name": "stdout",
          "text": [
            "A quantidade de números ímpares na lista é: 11\n"
          ]
        }
      ]
    },
    {
      "cell_type": "markdown",
      "source": [
        "3. Contar quantos números pares têm a lista."
      ],
      "metadata": {
        "id": "sVKpvaHtwbsM"
      },
      "id": "sVKpvaHtwbsM"
    },
    {
      "cell_type": "code",
      "source": [
        "contadorPares = 0\n",
        "\n",
        "for num in lista:\n",
        "    if num % 2 == 1: \n",
        "        contadorPares = contadorPares + 1\n",
        "\n",
        "print(f'A quantidade de números pares na lista é: {contadorPares}')"
      ],
      "metadata": {
        "id": "kPFVl46dmC3M",
        "colab": {
          "base_uri": "https://localhost:8080/"
        },
        "outputId": "46edad77-3daa-4125-9782-7a16168124ed"
      },
      "id": "kPFVl46dmC3M",
      "execution_count": 4,
      "outputs": [
        {
          "output_type": "stream",
          "name": "stdout",
          "text": [
            "A quantidade de números pares na lista é: 11\n"
          ]
        }
      ]
    },
    {
      "cell_type": "markdown",
      "source": [
        "4. Contar os números negativos da lista."
      ],
      "metadata": {
        "id": "-hDD4IdFwf6i"
      },
      "id": "-hDD4IdFwf6i"
    },
    {
      "cell_type": "code",
      "source": [
        "contadorNumNegativos = 0\n",
        "\n",
        "for num in lista:\n",
        "    if num < 0: \n",
        "        contadorNumNegativos = contadorNumNegativos + 1\n",
        "\n",
        "print(f'A quantidade de números negativos na lista é: {contadorNumNegativos}')"
      ],
      "metadata": {
        "id": "_V9woalZmCnr",
        "colab": {
          "base_uri": "https://localhost:8080/"
        },
        "outputId": "46948b07-cd1e-43f5-99ca-7fffd031ca94"
      },
      "id": "_V9woalZmCnr",
      "execution_count": 5,
      "outputs": [
        {
          "output_type": "stream",
          "name": "stdout",
          "text": [
            "A quantidade de números negativos na lista é: 3\n"
          ]
        }
      ]
    },
    {
      "cell_type": "markdown",
      "source": [
        "5. Conte quantas palavras têm tamanho 5 na lista de palavras."
      ],
      "metadata": {
        "id": "4Y-Nwl-Vwiie"
      },
      "id": "4Y-Nwl-Vwiie"
    },
    {
      "cell_type": "code",
      "source": [
        "contadorPalavrasTam5 = 0\n",
        "\n",
        "for palavra in palavras:\n",
        "    if len(palavra) == 5: \n",
        "        contadorPalavrasTam5 = contadorPalavrasTam5 + 1\n",
        "\n",
        "print(f'A quantidade de palavras com tamanho 5 é: {contadorPalavrasTam5}')"
      ],
      "metadata": {
        "id": "2NtEGZPxmCSY",
        "outputId": "50b019b9-d033-4563-a5be-92c59b657258",
        "colab": {
          "base_uri": "https://localhost:8080/"
        }
      },
      "id": "2NtEGZPxmCSY",
      "execution_count": 6,
      "outputs": [
        {
          "output_type": "stream",
          "name": "stdout",
          "text": [
            "A quantidade de palavras com tamanho 5 é: 0\n"
          ]
        }
      ]
    },
    {
      "cell_type": "markdown",
      "source": [
        "6. Somar todos os números pares da lista."
      ],
      "metadata": {
        "id": "0JOBNVF8wofT"
      },
      "id": "0JOBNVF8wofT"
    },
    {
      "cell_type": "code",
      "source": [
        "totalizadorPares = 0\n",
        "\n",
        "for num in lista:\n",
        "    if num % 2 == 1: \n",
        "        totalizadorPares = totalizadorPares + num\n",
        "\n",
        "print(f'A soma dos números pares na lista é: {totalizadorPares}')"
      ],
      "metadata": {
        "colab": {
          "base_uri": "https://localhost:8080/"
        },
        "id": "TWHJTvMrq_Q6",
        "outputId": "5ac8a911-e0ce-4255-b9bd-a8cca2ca48ff"
      },
      "id": "TWHJTvMrq_Q6",
      "execution_count": 7,
      "outputs": [
        {
          "output_type": "stream",
          "name": "stdout",
          "text": [
            "A soma dos números pares na lista é: 97\n"
          ]
        }
      ]
    },
    {
      "cell_type": "markdown",
      "source": [
        "7. Ordenar de maior a menor a lista de palavras."
      ],
      "metadata": {
        "id": "Msp41c07rAE1"
      },
      "id": "Msp41c07rAE1"
    },
    {
      "cell_type": "code",
      "source": [
        "listaDecrescente = sorted(palavras,reverse=True, key=str.casefold)\n",
        "print(listaDecrescente)"
      ],
      "metadata": {
        "colab": {
          "base_uri": "https://localhost:8080/"
        },
        "id": "khG3QnrKrEvV",
        "outputId": "c026f4d8-e941-4696-b86a-b85d1561b633"
      },
      "id": "khG3QnrKrEvV",
      "execution_count": 8,
      "outputs": [
        {
          "output_type": "stream",
          "name": "stdout",
          "text": [
            "['Volta Redonda', 'roma', 'Roma', 'Rio', 'Rezende', 'Niterói', 'Cabo Frio', 'Araruama']\n"
          ]
        }
      ]
    },
    {
      "cell_type": "markdown",
      "source": [
        "8. Modifique o exemplo for 10, para apresentar a tabuada de um número ingressado por teclado.\n"
      ],
      "metadata": {
        "id": "tmyfBTvirH0S"
      },
      "id": "tmyfBTvirH0S"
    },
    {
      "cell_type": "code",
      "source": [
        "numTabuada = int(input('Informa um numero inteiro para apresentar a tabuada: '))\n",
        "\n",
        "for num in range(1, 11):\n",
        "    print(f'{numTabuada} x {num} = {numTabuada * num}') \n"
      ],
      "metadata": {
        "colab": {
          "base_uri": "https://localhost:8080/"
        },
        "id": "8tVmHXw7rZiA",
        "outputId": "890b4dc4-ced2-40fc-af53-ecc3c1e48c99"
      },
      "id": "8tVmHXw7rZiA",
      "execution_count": 9,
      "outputs": [
        {
          "output_type": "stream",
          "name": "stdout",
          "text": [
            "Informa um numero inteiro para apresentar a tabuada: 6\n",
            "6 x 1 = 6\n",
            "6 x 2 = 12\n",
            "6 x 3 = 18\n",
            "6 x 4 = 24\n",
            "6 x 5 = 30\n",
            "6 x 6 = 36\n",
            "6 x 7 = 42\n",
            "6 x 8 = 48\n",
            "6 x 9 = 54\n",
            "6 x 10 = 60\n"
          ]
        }
      ]
    },
    {
      "cell_type": "markdown",
      "source": [
        "9. Escreva uma função chamada potencia() que permita uma entrada de um número positivo n e calcule todas as potências de $2^{1}$ até $2^{n}$\n",
        "\n",
        "\n"
      ],
      "metadata": {
        "id": "3lkGh3ccrHEW"
      },
      "id": "3lkGh3ccrHEW"
    },
    {
      "cell_type": "code",
      "source": [
        "def potencia(num):\n",
        "    return pow(2, num)\n",
        "\n",
        "numLimite = int(input('Informa um numero inteiro para calcular as potencias de dois: '))\n",
        "\n",
        "for num in range(1, numLimite+1):\n",
        "    print(f'2^{num} = {potencia(num)}') \n"
      ],
      "metadata": {
        "colab": {
          "base_uri": "https://localhost:8080/"
        },
        "id": "Y8q3lQbhramN",
        "outputId": "089a94c4-771a-4d0b-9f83-4efbc0fd181c",
        "collapsed": true
      },
      "id": "Y8q3lQbhramN",
      "execution_count": 10,
      "outputs": [
        {
          "output_type": "stream",
          "name": "stdout",
          "text": [
            "Informa um numero inteiro para calcular as potencias de dois: 4\n",
            "2^1 = 2\n",
            "2^2 = 4\n",
            "2^3 = 8\n",
            "2^4 = 16\n"
          ]
        }
      ]
    },
    {
      "cell_type": "markdown",
      "source": [
        "10. Escreva uma função que permita verificar se uma lista de enteiros é uma sequência aritmética (se a diferenta entre os elementos sempre é a mesma)\n"
      ],
      "metadata": {
        "id": "hwc0F6FnrGg2"
      },
      "id": "hwc0F6FnrGg2"
    },
    {
      "cell_type": "code",
      "source": [
        "def verificaSequenciaNumerica(listaParam):\n",
        "\n",
        "    if len(listaParam) <= 1:\n",
        "        return False\n",
        "\n",
        "    primeiroR = listaParam[1] - listaParam[0]\n",
        "\n",
        "    for idx, num in enumerate(listaParam):\n",
        "        if idx+1 < len(listaParam):\n",
        "            if (listaParam[idx+1] - listaParam[idx]) != primeiroR:\n",
        "                return False\n",
        "    return True\n",
        "\n",
        "print(verificaSequenciaNumerica(lista))\n",
        "\n",
        "lista2 = [-3, -2, -1, 0, 1,2,3,4,5,6,7,8,9,10,11,12,13,14,15,16,17,18,19,20]\n",
        "print(verificaSequenciaNumerica(lista2))"
      ],
      "metadata": {
        "colab": {
          "base_uri": "https://localhost:8080/"
        },
        "id": "pZSFJCMnrlmu",
        "outputId": "14dcc6db-d69a-4c63-f691-24f63db099ad"
      },
      "id": "pZSFJCMnrlmu",
      "execution_count": 11,
      "outputs": [
        {
          "output_type": "stream",
          "name": "stdout",
          "text": [
            "False\n",
            "True\n"
          ]
        }
      ]
    }
  ],
  "metadata": {
    "kernelspec": {
      "display_name": "Python 3 (ipykernel)",
      "language": "python",
      "name": "python3"
    },
    "language_info": {
      "codemirror_mode": {
        "name": "ipython",
        "version": 3
      },
      "file_extension": ".py",
      "mimetype": "text/x-python",
      "name": "python",
      "nbconvert_exporter": "python",
      "pygments_lexer": "ipython3",
      "version": "3.9.12"
    },
    "colab": {
      "name": "exercicio01.ipynb",
      "provenance": []
    }
  },
  "nbformat": 4,
  "nbformat_minor": 5
}
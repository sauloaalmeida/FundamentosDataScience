{
  "cells": [
    {
      "cell_type": "markdown",
      "metadata": {
        "id": "WJEBJ372kJml"
      },
      "source": [
        "![PPGI_UFRJ](https://github.com/zavaleta/Fundamentos_DS/blob/main/imagens/ppgi-ufrj.png?raw=1)\n",
        "# Fundamentos de Ciência de Dados\n",
        "## 2022 - BL2\n",
        "## **Aluno:** Saulo Andrade Almeida"
      ],
      "id": "WJEBJ372kJml"
    },
    {
      "cell_type": "markdown",
      "source": [
        "## Exercício 02\n",
        "\n",
        "Prática dos conteúdos estudados: Estruturas de Controle\n",
        "\n",
        "---\n",
        "\n"
      ],
      "metadata": {
        "id": "TJ3c3UalnrlT"
      },
      "id": "TJ3c3UalnrlT"
    },
    {
      "cell_type": "markdown",
      "metadata": {
        "id": "MQMtG4ZyoL2o"
      },
      "source": [
        "Definicao das listas que serão utilizadas no exercício:"
      ],
      "id": "MQMtG4ZyoL2o"
    },
    {
      "cell_type": "code",
      "execution_count": 1,
      "id": "86ce8298",
      "metadata": {
        "id": "86ce8298"
      },
      "outputs": [],
      "source": [
        "lista = [-3, -2, -2, 0, 1,2,3,4,5,6,7,8,9,10,11,12,13,14,15,16,17,18,19,20]\n",
        "palavras =['roma','Roma','Rio','Niterói','Araruama','Cabo Frio','Rezende','Volta Redonda']"
      ]
    },
    {
      "cell_type": "markdown",
      "source": [
        "1. Escreva seus dados numa mascara e apresente eles."
      ],
      "metadata": {
        "id": "TBbfQdYBpp-G"
      },
      "id": "TBbfQdYBpp-G"
    },
    {
      "cell_type": "code",
      "execution_count": null,
      "id": "ffbba5cb",
      "metadata": {
        "colab": {
          "base_uri": "https://localhost:8080/"
        },
        "id": "ffbba5cb",
        "outputId": "3f922f5c-34e9-4391-9e6b-4f2395c9f8c8"
      },
      "outputs": [
        {
          "output_type": "stream",
          "name": "stdout",
          "text": [
            "Saulo Andrade Almeida\n",
            "Rua Pereira Nunes, n 150\n",
            "Tijuca\n",
            "Rio de Janeiro\n",
            "Saulo Andrade Almeida\n",
            "Rua Pereira Nunes, n 150\n",
            "Tijuca\n",
            "Rio de Janeiro\n"
          ]
        }
      ],
      "source": [
        "enderecoLinhasDiferentes  = 'Saulo Andrade Almeida\\n'\n",
        "enderecoLinhasDiferentes += 'Rua Pereira Nunes, n 150\\n'\n",
        "enderecoLinhasDiferentes += 'Tijuca\\n'\n",
        "enderecoLinhasDiferentes += 'Rio de Janeiro'\n",
        "print(enderecoLinhasDiferentes)\n",
        "\n",
        "enderecoMesmaLinha = 'Saulo Andrade Almeida\\nRua Pereira Nunes, n 150\\nTijuca\\nRio de Janeiro'\n",
        "print(enderecoMesmaLinha)"
      ]
    },
    {
      "cell_type": "markdown",
      "source": [
        "2. Escreva uma função para contar quantos números ímpares têm a lista"
      ],
      "metadata": {
        "id": "rNbovp3Jq-PG"
      },
      "id": "rNbovp3Jq-PG"
    },
    {
      "cell_type": "code",
      "source": [
        "contadorImpares = 0\n",
        "\n",
        "for num in lista:\n",
        "    if num % 2 == 1: \n",
        "        contadorImpares = contadorImpares + 1\n",
        "\n",
        "print(f'A quantidade de números ímpares na lista é: {contadorImpares}')"
      ],
      "metadata": {
        "id": "AwMTmn39mDGD",
        "outputId": "5a8f1c28-cef9-4be3-8068-b3e8ff5238cb",
        "colab": {
          "base_uri": "https://localhost:8080/"
        }
      },
      "id": "AwMTmn39mDGD",
      "execution_count": 5,
      "outputs": [
        {
          "output_type": "stream",
          "name": "stdout",
          "text": [
            "A quantidade de números ímpares na lista é: 11\n"
          ]
        }
      ]
    },
    {
      "cell_type": "markdown",
      "source": [
        "3. Contar quantos números pares têm a lista."
      ],
      "metadata": {
        "id": "sVKpvaHtwbsM"
      },
      "id": "sVKpvaHtwbsM"
    },
    {
      "cell_type": "code",
      "source": [
        "contadorPares = 0\n",
        "\n",
        "for num in lista:\n",
        "    if num % 2 == 1: \n",
        "        contadorPares = contadorPares + 1\n",
        "\n",
        "print(f'A quantidade de números pares na lista é: {contadorPares}')"
      ],
      "metadata": {
        "id": "kPFVl46dmC3M",
        "outputId": "8138b291-a8c9-4aff-cee0-2cadb3bd4cca",
        "colab": {
          "base_uri": "https://localhost:8080/"
        }
      },
      "id": "kPFVl46dmC3M",
      "execution_count": 6,
      "outputs": [
        {
          "output_type": "stream",
          "name": "stdout",
          "text": [
            "A quantidade de números pares na lista é: 11\n"
          ]
        }
      ]
    },
    {
      "cell_type": "markdown",
      "source": [
        "4. Contar os números negativos da lista."
      ],
      "metadata": {
        "id": "-hDD4IdFwf6i"
      },
      "id": "-hDD4IdFwf6i"
    },
    {
      "cell_type": "code",
      "source": [
        "contadorNumNegativos = 0\n",
        "\n",
        "for num in lista:\n",
        "    if num < 0: \n",
        "        contadorNumNegativos = contadorNumNegativos + 1\n",
        "\n",
        "print(f'A quantidade de números negativos na lista é: {contadorNumNegativos}')"
      ],
      "metadata": {
        "id": "_V9woalZmCnr",
        "outputId": "3f205e41-443b-4644-a81a-b141c8a02560",
        "colab": {
          "base_uri": "https://localhost:8080/"
        }
      },
      "id": "_V9woalZmCnr",
      "execution_count": 7,
      "outputs": [
        {
          "output_type": "stream",
          "name": "stdout",
          "text": [
            "A quantidade de números negativos na lista é: 3\n"
          ]
        }
      ]
    },
    {
      "cell_type": "markdown",
      "source": [
        "5. Conte quantas palavras têm tamanho 5 na lista de palavras."
      ],
      "metadata": {
        "id": "4Y-Nwl-Vwiie"
      },
      "id": "4Y-Nwl-Vwiie"
    },
    {
      "cell_type": "code",
      "source": [
        "contadorPalavrasTam5 = 0\n",
        "\n",
        "for palavra in palavras:\n",
        "    if len(palavra) == 5: \n",
        "        contadorPalavrasTam5 = contadorPalavrasTam5 + 1\n",
        "\n",
        "print(f'A quantidade de palavras com tamanho 5 é: {contadorPalavrasTam5}')"
      ],
      "metadata": {
        "id": "2NtEGZPxmCSY",
        "outputId": "3aac756d-948f-42c1-eca9-40329835467a",
        "colab": {
          "base_uri": "https://localhost:8080/"
        }
      },
      "id": "2NtEGZPxmCSY",
      "execution_count": 8,
      "outputs": [
        {
          "output_type": "stream",
          "name": "stdout",
          "text": [
            "A quantidade de palavras com tamanho 5 é: 0\n"
          ]
        }
      ]
    },
    {
      "cell_type": "markdown",
      "source": [
        "6. Somar todos os números pares da lista."
      ],
      "metadata": {
        "id": "0JOBNVF8wofT"
      },
      "id": "0JOBNVF8wofT"
    },
    {
      "cell_type": "code",
      "source": [
        "totalizadorPares = 0\n",
        "\n",
        "for num in lista:\n",
        "    if num % 2 == 1: \n",
        "        totalizadorPares = totalizadorPares + num\n",
        "\n",
        "print(f'A soma dos números pares na lista é: {totalizadorPares}')"
      ],
      "metadata": {
        "colab": {
          "base_uri": "https://localhost:8080/"
        },
        "id": "TWHJTvMrq_Q6",
        "outputId": "edcdbcd9-5dc9-4b58-ddd2-a9f29e6989c0"
      },
      "id": "TWHJTvMrq_Q6",
      "execution_count": 9,
      "outputs": [
        {
          "output_type": "stream",
          "name": "stdout",
          "text": [
            "A soma dos números pares na lista é: 97\n"
          ]
        }
      ]
    },
    {
      "cell_type": "markdown",
      "source": [
        "7. Ordenar de maior a menor a lista de palavras."
      ],
      "metadata": {
        "id": "Msp41c07rAE1"
      },
      "id": "Msp41c07rAE1"
    },
    {
      "cell_type": "code",
      "source": [
        "listaDecrescente = sorted(palavras,reverse=True, key=str.casefold)\n",
        "print(listaDecrescente)"
      ],
      "metadata": {
        "colab": {
          "base_uri": "https://localhost:8080/"
        },
        "id": "khG3QnrKrEvV",
        "outputId": "7e098cd0-1bfb-41cd-f36d-fc6d3da9db37"
      },
      "id": "khG3QnrKrEvV",
      "execution_count": 11,
      "outputs": [
        {
          "output_type": "stream",
          "name": "stdout",
          "text": [
            "['Volta Redonda', 'roma', 'Roma', 'Rio', 'Rezende', 'Niterói', 'Cabo Frio', 'Araruama']\n"
          ]
        }
      ]
    },
    {
      "cell_type": "markdown",
      "source": [
        "8. Modifique o exemplo for 10, para apresentar a tabuada de um número ingressado por teclado.\n"
      ],
      "metadata": {
        "id": "tmyfBTvirH0S"
      },
      "id": "tmyfBTvirH0S"
    },
    {
      "cell_type": "code",
      "source": [
        "x = 4\n",
        "y = 0.5\n",
        "\n",
        "print(x + y * 3)\n",
        "print((x + y) * 3)\n",
        "print(x ** y)\n",
        "print(x % y)\n",
        "print(x / 12.0)\n",
        "print(x / 6)\n"
      ],
      "metadata": {
        "colab": {
          "base_uri": "https://localhost:8080/"
        },
        "id": "8tVmHXw7rZiA",
        "outputId": "1a647e0a-9153-40fb-ef64-40d7c66eb08e"
      },
      "id": "8tVmHXw7rZiA",
      "execution_count": null,
      "outputs": [
        {
          "output_type": "stream",
          "name": "stdout",
          "text": [
            "5.5\n",
            "13.5\n",
            "2.0\n",
            "0.0\n",
            "0.3333333333333333\n",
            "0.6666666666666666\n"
          ]
        }
      ]
    },
    {
      "cell_type": "markdown",
      "source": [
        "9. Escreva uma função chamada potencia() que permita uma entrada de um número positivo n e calcule todas as potências de $2^{1}$ até $2^{n}$ \n",
        "\n",
        "\n"
      ],
      "metadata": {
        "id": "3lkGh3ccrHEW"
      },
      "id": "3lkGh3ccrHEW"
    },
    {
      "cell_type": "code",
      "source": [
        "x = 5.33\n",
        "print(round(x))\n",
        "print(int(x))\n",
        "\n",
        "y = 5.77\n",
        "print(round(y))\n",
        "print(int(y))"
      ],
      "metadata": {
        "colab": {
          "base_uri": "https://localhost:8080/"
        },
        "id": "Y8q3lQbhramN",
        "outputId": "fd526336-876f-4ebd-c39f-50c7edcf37fa"
      },
      "id": "Y8q3lQbhramN",
      "execution_count": null,
      "outputs": [
        {
          "output_type": "stream",
          "name": "stdout",
          "text": [
            "5\n",
            "5\n",
            "6\n",
            "5\n"
          ]
        }
      ]
    },
    {
      "cell_type": "markdown",
      "source": [
        "10. Escreva uma função que permita verificar se uma lista de enteiros é uma sequência aritmética (se a diferenta entre os elementos sempre é a mesma)\n"
      ],
      "metadata": {
        "id": "hwc0F6FnrGg2"
      },
      "id": "hwc0F6FnrGg2"
    },
    {
      "cell_type": "code",
      "source": [
        "valor = str(10) + ' Teste'\n",
        "valor2 = '%d Teste' % 10\n",
        "valor3 = '{0} Teste'.format(10)\n",
        "\n",
        "print(valor)\n",
        "print(valor2)\n",
        "print(valor3)"
      ],
      "metadata": {
        "colab": {
          "base_uri": "https://localhost:8080/"
        },
        "id": "pZSFJCMnrlmu",
        "outputId": "414ff9e4-45f8-4bdd-b200-9f27b44c8242"
      },
      "id": "pZSFJCMnrlmu",
      "execution_count": null,
      "outputs": [
        {
          "output_type": "stream",
          "name": "stdout",
          "text": [
            "10 Teste\n",
            "10 Teste\n",
            "10 Teste\n"
          ]
        }
      ]
    }
  ],
  "metadata": {
    "kernelspec": {
      "display_name": "Python 3 (ipykernel)",
      "language": "python",
      "name": "python3"
    },
    "language_info": {
      "codemirror_mode": {
        "name": "ipython",
        "version": 3
      },
      "file_extension": ".py",
      "mimetype": "text/x-python",
      "name": "python",
      "nbconvert_exporter": "python",
      "pygments_lexer": "ipython3",
      "version": "3.9.12"
    },
    "colab": {
      "name": "exercicio01.ipynb",
      "provenance": []
    }
  },
  "nbformat": 4,
  "nbformat_minor": 5
}
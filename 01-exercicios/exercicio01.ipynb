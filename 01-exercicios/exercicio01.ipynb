{
  "cells": [
    {
      "cell_type": "markdown",
      "metadata": {
        "id": "WJEBJ372kJml"
      },
      "source": [
        "![PPGI_UFRJ](https://github.com/zavaleta/Fundamentos_DS/blob/main/imagens/ppgi-ufrj.png?raw=1)\n",
        "# Fundamentos de Ciência de Dados\n",
        "## 2022 - BL2\n",
        "## **Aluno:** Saulo Andrade Almeida"
      ],
      "id": "WJEBJ372kJml"
    },
    {
      "cell_type": "markdown",
      "source": [
        "## Exercício 01\n",
        "\n",
        "Prática dos conteúdos estudados: construindo e operando listas e strings\n",
        "\n",
        "---\n",
        "\n"
      ],
      "metadata": {
        "id": "TJ3c3UalnrlT"
      },
      "id": "TJ3c3UalnrlT"
    },
    {
      "cell_type": "markdown",
      "metadata": {
        "id": "MQMtG4ZyoL2o"
      },
      "source": [
        "1. Seja x='cachorro' e y='gato'. Quais são os valores retornados pelas operações:\n",
        "    - x + y\n",
        "    - \"O\" + x + \"não gosta de \" + y\n",
        "    - x*6"
      ],
      "id": "MQMtG4ZyoL2o"
    },
    {
      "cell_type": "code",
      "execution_count": 6,
      "id": "86ce8298",
      "metadata": {
        "id": "86ce8298",
        "outputId": "cc467f18-b2e5-40eb-f7ee-a024b00a5f91",
        "colab": {
          "base_uri": "https://localhost:8080/"
        }
      },
      "outputs": [
        {
          "output_type": "stream",
          "name": "stdout",
          "text": [
            "cachorrogato\n",
            "O cachorro não gosta de gato\n",
            "cachorrocachorrocachorrocachorrocachorrocachorro\n"
          ]
        }
      ],
      "source": [
        "x='cachorro'\n",
        "y='gato'\n",
        "\n",
        "print(x + y)\n",
        "\n",
        "print(\"O \" + x + \" não gosta de \" + y)\n",
        "\n",
        "print(x*6)"
      ]
    },
    {
      "cell_type": "markdown",
      "source": [
        "2. Escreva uma string que contenha nome, endereço, bairro e cidade:\n",
        "    - Em linhas diferentes\n",
        "    - Na mesma linha"
      ],
      "metadata": {
        "id": "TBbfQdYBpp-G"
      },
      "id": "TBbfQdYBpp-G"
    },
    {
      "cell_type": "code",
      "execution_count": 8,
      "id": "ffbba5cb",
      "metadata": {
        "id": "ffbba5cb",
        "outputId": "3f922f5c-34e9-4391-9e6b-4f2395c9f8c8",
        "colab": {
          "base_uri": "https://localhost:8080/"
        }
      },
      "outputs": [
        {
          "output_type": "stream",
          "name": "stdout",
          "text": [
            "Saulo Andrade Almeida\n",
            "Rua Pereira Nunes, n 150\n",
            "Tijuca\n",
            "Rio de Janeiro\n",
            "Saulo Andrade Almeida\n",
            "Rua Pereira Nunes, n 150\n",
            "Tijuca\n",
            "Rio de Janeiro\n"
          ]
        }
      ],
      "source": [
        "enderecoLinhasDiferentes = 'Saulo Andrade Almeida\\n'\n",
        "enderecoLinhasDiferentes += 'Rua Pereira Nunes, n 150\\n'\n",
        "enderecoLinhasDiferentes += 'Tijuca\\n'\n",
        "enderecoLinhasDiferentes += 'Rio de Janeiro'\n",
        "print(enderecoLinhasDiferentes)\n",
        "\n",
        "enderecoMesmaLinha = 'Saulo Andrade Almeida\\nRua Pereira Nunes, n 150\\nTijuca\\nRio de Janeiro'\n",
        "print(enderecoMesmaLinha)"
      ]
    },
    {
      "cell_type": "markdown",
      "source": [
        "3. Quais das seguintes variáveis são nomes válidos?\n",
        "    - a) length\n",
        "    - b) _width\n",
        "    - c) firstBase\n",
        "    - d) 2MaisDois\n",
        "    - e) halt!"
      ],
      "metadata": {
        "id": "rNbovp3Jq-PG"
      },
      "id": "rNbovp3Jq-PG"
    },
    {
      "cell_type": "code",
      "source": [
        ""
      ],
      "metadata": {
        "id": "TWHJTvMrq_Q6"
      },
      "id": "TWHJTvMrq_Q6",
      "execution_count": null,
      "outputs": []
    },
    {
      "cell_type": "markdown",
      "source": [
        "4. Que tipo de dados seria mais apropriado para representar os seguintes valores?\n",
        "    - o número de meses de um ano\n",
        "    - a área de um círculo\n",
        "    - o salário mínimo atual\n",
        "    - a idade do universo\n",
        "    - seu nome"
      ],
      "metadata": {
        "id": "Msp41c07rAE1"
      },
      "id": "Msp41c07rAE1"
    },
    {
      "cell_type": "code",
      "source": [
        ""
      ],
      "metadata": {
        "id": "khG3QnrKrEvV"
      },
      "id": "khG3QnrKrEvV",
      "execution_count": null,
      "outputs": []
    },
    {
      "cell_type": "markdown",
      "source": [
        "5. Seja x = 4 e y = 0.5. Escrever os valores das seguintes expressões:\n",
        "    - a) x + y * 3\n",
        "    - b) (x + y) * 3\n",
        "    - c) x ** y\n",
        "    - d) x % y\n",
        "    - e) x / 12.0\n",
        "    - f) x / 6"
      ],
      "metadata": {
        "id": "tmyfBTvirH0S"
      },
      "id": "tmyfBTvirH0S"
    },
    {
      "cell_type": "code",
      "source": [
        ""
      ],
      "metadata": {
        "id": "8tVmHXw7rZiA"
      },
      "id": "8tVmHXw7rZiA",
      "execution_count": null,
      "outputs": []
    },
    {
      "cell_type": "markdown",
      "source": [
        "6. Seja x = 5.33. Escrever os valores das seguintes expressões:\n",
        "    - a) round(x)\n",
        "    - b) int(x)\n",
        "    \n",
        " Têm alguma diferença?\n",
        "\n",
        "\n"
      ],
      "metadata": {
        "id": "3lkGh3ccrHEW"
      },
      "id": "3lkGh3ccrHEW"
    },
    {
      "cell_type": "code",
      "source": [
        ""
      ],
      "metadata": {
        "id": "Y8q3lQbhramN"
      },
      "id": "Y8q3lQbhramN",
      "execution_count": null,
      "outputs": []
    },
    {
      "cell_type": "markdown",
      "source": [
        "7. Se pode concatenar um valor numérico e uma string?. Apresente exemplos.\n"
      ],
      "metadata": {
        "id": "hwc0F6FnrGg2"
      },
      "id": "hwc0F6FnrGg2"
    },
    {
      "cell_type": "code",
      "source": [
        ""
      ],
      "metadata": {
        "id": "pZSFJCMnrlmu"
      },
      "id": "pZSFJCMnrlmu",
      "execution_count": null,
      "outputs": []
    },
    {
      "cell_type": "markdown",
      "source": [
        "8. Definir funções para as operações matemáticas básicas. \n",
        "\n"
      ],
      "metadata": {
        "id": "EABjqwfwrGKs"
      },
      "id": "EABjqwfwrGKs"
    },
    {
      "cell_type": "code",
      "source": [
        "def soma(a, b):\n",
        "    return a + b\n",
        "\n",
        "def subtracao(a, b):\n",
        "    return a - b\n",
        "\n",
        "def multiplicacao(a, b):\n",
        "    return a * b\n",
        "\n",
        "def divisao(a, b):\n",
        "    return a / b    \n",
        "\n",
        "print(soma(1, 2))\n",
        "print(subtracao(2, 1))\n",
        "print(multiplicacao(2, 3))\n",
        "print(divisao(6, 3))\n"
      ],
      "metadata": {
        "id": "EvIdPA-Vrt5F",
        "outputId": "536acce5-8133-48e4-ee1f-3a82c2f85d13",
        "colab": {
          "base_uri": "https://localhost:8080/"
        }
      },
      "id": "EvIdPA-Vrt5F",
      "execution_count": 9,
      "outputs": [
        {
          "output_type": "stream",
          "name": "stdout",
          "text": [
            "3\n",
            "1\n",
            "6\n",
            "2.0\n"
          ]
        }
      ]
    }
  ],
  "metadata": {
    "kernelspec": {
      "display_name": "Python 3 (ipykernel)",
      "language": "python",
      "name": "python3"
    },
    "language_info": {
      "codemirror_mode": {
        "name": "ipython",
        "version": 3
      },
      "file_extension": ".py",
      "mimetype": "text/x-python",
      "name": "python",
      "nbconvert_exporter": "python",
      "pygments_lexer": "ipython3",
      "version": "3.9.12"
    },
    "colab": {
      "name": "exercicio01.ipynb",
      "provenance": []
    }
  },
  "nbformat": 4,
  "nbformat_minor": 5
}